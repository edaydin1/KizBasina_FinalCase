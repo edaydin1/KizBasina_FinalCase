{
 "cells": [
  {
   "cell_type": "markdown",
   "metadata": {},
   "source": [
    "----------------------------Customer Experience Dataset----------------------"
   ]
  },
  {
   "cell_type": "code",
   "execution_count": 3,
   "metadata": {},
   "outputs": [],
   "source": [
    "import pandas as pd ; import numpy as np; import matplotlib.pyplot as plt ; import seaborn as sns\n",
    "\n"
   ]
  },
  {
   "cell_type": "code",
   "execution_count": 4,
   "metadata": {},
   "outputs": [],
   "source": [
    "# Kaggle den indirdiğim customer_experience_data.csv Veri Setini Yükleme\n",
    "df = pd.read_csv(r\"C:\\Users\\edayd\\OneDrive\\Masaüstü\\BootcampFinalCase\\customer_experience_data.csv\")\n"
   ]
  },
  {
   "cell_type": "code",
   "execution_count": 5,
   "metadata": {},
   "outputs": [
    {
     "data": {
      "text/html": [
       "<div>\n",
       "<style scoped>\n",
       "    .dataframe tbody tr th:only-of-type {\n",
       "        vertical-align: middle;\n",
       "    }\n",
       "\n",
       "    .dataframe tbody tr th {\n",
       "        vertical-align: top;\n",
       "    }\n",
       "\n",
       "    .dataframe thead th {\n",
       "        text-align: right;\n",
       "    }\n",
       "</style>\n",
       "<table border=\"1\" class=\"dataframe\">\n",
       "  <thead>\n",
       "    <tr style=\"text-align: right;\">\n",
       "      <th></th>\n",
       "      <th>Customer_ID</th>\n",
       "      <th>Age</th>\n",
       "      <th>Gender</th>\n",
       "      <th>Location</th>\n",
       "      <th>Num_Interactions</th>\n",
       "      <th>Feedback_Score</th>\n",
       "      <th>Products_Purchased</th>\n",
       "      <th>Products_Viewed</th>\n",
       "      <th>Time_Spent_on_Site</th>\n",
       "      <th>Satisfaction_Score</th>\n",
       "      <th>Retention_Status</th>\n",
       "      <th>Gender_Encoded</th>\n",
       "      <th>Location_Encoded</th>\n",
       "      <th>Retention_Status_Encoded</th>\n",
       "    </tr>\n",
       "  </thead>\n",
       "  <tbody>\n",
       "    <tr>\n",
       "      <th>812</th>\n",
       "      <td>813</td>\n",
       "      <td>38</td>\n",
       "      <td>Male</td>\n",
       "      <td>Rural</td>\n",
       "      <td>13</td>\n",
       "      <td>3</td>\n",
       "      <td>8</td>\n",
       "      <td>20</td>\n",
       "      <td>29.466165</td>\n",
       "      <td>10</td>\n",
       "      <td>Retained</td>\n",
       "      <td>1</td>\n",
       "      <td>0</td>\n",
       "      <td>1</td>\n",
       "    </tr>\n",
       "  </tbody>\n",
       "</table>\n",
       "</div>"
      ],
      "text/plain": [
       "     Customer_ID  Age Gender Location  Num_Interactions  Feedback_Score  \\\n",
       "812          813   38   Male    Rural                13               3   \n",
       "\n",
       "     Products_Purchased  Products_Viewed  Time_Spent_on_Site  \\\n",
       "812                   8               20           29.466165   \n",
       "\n",
       "     Satisfaction_Score Retention_Status  Gender_Encoded  Location_Encoded  \\\n",
       "812                  10         Retained               1                 0   \n",
       "\n",
       "     Retention_Status_Encoded  \n",
       "812                         1  "
      ]
     },
     "execution_count": 5,
     "metadata": {},
     "output_type": "execute_result"
    }
   ],
   "source": [
    "#Rastgele değerlere bakacağım veriler nasıl görmek için \n",
    "df.sample()"
   ]
  },
  {
   "cell_type": "markdown",
   "metadata": {},
   "source": [
    "Customer_ID: Her müşteriye ait benzersiz kimlik numarası.\n",
    "Age: Müşterinin yaşı.\n",
    "Gender: Cinsiyeti (Female, Male gibi).\n",
    "Location: Müşterinin yaşadığı yer tipi (Urban = şehir, Rural = kırsal, Suburban = banliyö vb.).\n",
    "Num_Interactions: Müşterinin şirketle veya platformla gerçekleştirdiği etkileşim sayısı.\n",
    "Feedback_Score: Müşterinin verdiği geri bildirim puanı (muhtemelen memnuniyetle ilgili).\n",
    "Products_Purchased: Satın aldığı ürün sayısı.\n",
    "Products_Viewed: İncelediği/gezdiği ürün sayısı.\n",
    "Time_Spent_on_Site: Site veya platformda geçirdiği süre (dakika cinsinden).\n",
    "Satisfaction_Score: Genel memnuniyet puanı.\n",
    "Retention_Status: Müşterinin elde tutulup tutulmadığı durumu (Retained = elde tutulmuş, Churned = kaybedilmiş).\n",
    "Gender_Encoded, Location_Encoded, Retention_Status_Encoded: Yukarıdaki kategorik değişkenlerin sayısal olarak kodlanmış halleri.\n",
    "\n",
    "Yani, bu veri seti bir şirketin (örneğin e-ticaret, abonelik hizmeti ya da benzeri) müşterilerinin davranışlarını, memnuniyetini ve elde tutulma durumlarını analiz etmek için toplanmış müşteri verilerini içermektedir.\n"
   ]
  },
  {
   "cell_type": "markdown",
   "metadata": {},
   "source": [
    "Burada Gender,Location,Retention_Status  etiketlenmiş ama makine öğrenimi için Bazı modeller (örneğin linear regression, neural networks) sayısal değerleri sıralı gibi yorumlar. Yani model 1’in 0’dan büyük olması nedeniyle \"erkek\"i \"kadın\"dan üstün bir şey sanabilir. Bu, modele yanlış öncelik sinyali verebilir. Bu durumda get_dummies daha güvenli olurdu. Diğer etiketlenmiş kolonlar için de önemli bir durum. Bu yüzden ham hallerinden ben tekrardan get_dummies yapacağım."
   ]
  },
  {
   "cell_type": "code",
   "execution_count": 6,
   "metadata": {},
   "outputs": [
    {
     "name": "stdout",
     "output_type": "stream",
     "text": [
      "<class 'pandas.core.frame.DataFrame'>\n",
      "RangeIndex: 1000 entries, 0 to 999\n",
      "Data columns (total 14 columns):\n",
      " #   Column                    Non-Null Count  Dtype  \n",
      "---  ------                    --------------  -----  \n",
      " 0   Customer_ID               1000 non-null   int64  \n",
      " 1   Age                       1000 non-null   int64  \n",
      " 2   Gender                    1000 non-null   object \n",
      " 3   Location                  1000 non-null   object \n",
      " 4   Num_Interactions          1000 non-null   int64  \n",
      " 5   Feedback_Score            1000 non-null   int64  \n",
      " 6   Products_Purchased        1000 non-null   int64  \n",
      " 7   Products_Viewed           1000 non-null   int64  \n",
      " 8   Time_Spent_on_Site        1000 non-null   float64\n",
      " 9   Satisfaction_Score        1000 non-null   int64  \n",
      " 10  Retention_Status          1000 non-null   object \n",
      " 11  Gender_Encoded            1000 non-null   int64  \n",
      " 12  Location_Encoded          1000 non-null   int64  \n",
      " 13  Retention_Status_Encoded  1000 non-null   int64  \n",
      "dtypes: float64(1), int64(10), object(3)\n",
      "memory usage: 109.5+ KB\n"
     ]
    }
   ],
   "source": [
    "# Veri seti özelliklerini görüntüleme\n",
    "df.info()"
   ]
  },
  {
   "cell_type": "code",
   "execution_count": 7,
   "metadata": {},
   "outputs": [
    {
     "name": "stdout",
     "output_type": "stream",
     "text": [
      "One-Hot Encoding Sonrası Veri Seti:\n",
      "Orijinal sütun sayısı: 15\n",
      "Encoding sonrası sütun sayısı: 15\n",
      "Eklenen sütun sayısı: 0\n"
     ]
    }
   ],
   "source": [
    "# One-hot encoding uygulanacak sütunlar\n",
    "categorical_columns = ['Gender', 'Location', 'Retention_Status']\n",
    "\n",
    "\n",
    "df= pd.get_dummies(df, columns=categorical_columns, prefix=categorical_columns)\n",
    "cols_to_drop = ['Gender_Encoded', 'Location_Encoded', 'Retention_Status_Encoded']\n",
    "df.drop(columns=cols_to_drop, inplace=True)\n",
    "\n",
    "# Sonucu göster\n",
    "print(\"One-Hot Encoding Sonrası Veri Seti:\")\n",
    "print(f\"Orijinal sütun sayısı: {df.shape[1]}\")\n",
    "print(f\"Encoding sonrası sütun sayısı: {df.shape[1]}\")\n",
    "print(f\"Eklenen sütun sayısı: {df.shape[1] - df.shape[1]}\")\n",
    "\n",
    "\n"
   ]
  },
  {
   "cell_type": "code",
   "execution_count": 8,
   "metadata": {},
   "outputs": [
    {
     "data": {
      "text/plain": [
       "Index(['Customer_ID', 'Age', 'Num_Interactions', 'Feedback_Score',\n",
       "       'Products_Purchased', 'Products_Viewed', 'Time_Spent_on_Site',\n",
       "       'Satisfaction_Score', 'Gender_Female', 'Gender_Male', 'Location_Rural',\n",
       "       'Location_Suburban', 'Location_Urban', 'Retention_Status_Churned',\n",
       "       'Retention_Status_Retained'],\n",
       "      dtype='object')"
      ]
     },
     "execution_count": 8,
     "metadata": {},
     "output_type": "execute_result"
    }
   ],
   "source": [
    "df.columns"
   ]
  },
  {
   "cell_type": "code",
   "execution_count": 13,
   "metadata": {},
   "outputs": [
    {
     "data": {
      "image/png": "[encoded data removed]",
      "text/plain": [
       "<Figure size 640x480 with 1 Axes>"
      ]
     },
     "metadata": {},
     "output_type": "display_data"
    }
   ],
   "source": [
    "colors = sns.color_palette(\"pastel\", n_colors=len(df.describe().columns))\n",
    "df.describe().plot(kind='bar', color=colors)\n",
    "plt.title(\"Temel İstatistikler\")\n",
    "plt.xticks(rotation=45)\n",
    "plt.tight_layout()\n",
    "plt.show()"
   ]
  },
  {
   "cell_type": "code",
   "execution_count": 10,
   "metadata": {},
   "outputs": [],
   "source": [
    "df.to_csv('df.csv', index=False)\n"
   ]
  }
 ],
 "metadata": {
  "kernelspec": {
   "display_name": "A31011",
   "language": "python",
   "name": "python3"
  },
  "language_info": {
   "codemirror_mode": {
    "name": "ipython",
    "version": 3
   },
   "file_extension": ".py",
   "mimetype": "text/x-python",
   "name": "python",
   "nbconvert_exporter": "python",
   "pygments_lexer": "ipython3",
   "version": "3.10.15"
  }
 },
 "nbformat": 4,
 "nbformat_minor": 2
}
